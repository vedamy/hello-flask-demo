{
 "cells": [
  {
   "cell_type": "markdown",
   "id": "45cc574d",
   "metadata": {},
   "source": [
    "# Week-21 Homework Assignment"
   ]
  },
  {
   "cell_type": "markdown",
   "id": "2e6f9234",
   "metadata": {},
   "source": [
    "1.\tCreate a basic API in Azure (as we did in class) that tells you how to access the different endpoints when you go to the home page. You should have the following endpoints:\n",
    "    \n",
    "a.\tA /all endpoint that displays all of the nobel.json data\n",
    "\n",
    "b.\tA /<year> GET endpoint that allows for you to pass in any year and shows you the Nobel prizes from that year. No need to create an HTML page for this, but you can if you want.\n",
    "\n",
    "c.\tA /add POST endpoint that lets you add additional data\n",
    "\n",
    "i.\tYou should use a basic HTML form, but you can also pass the data into the API url if you’re feeling ambitious. The latter may require use of a tool called Postman. First, make sure the data from the form is getting passed to python, and then work on appending it to the json file.\n",
    "\n",
    "ii.\tMake sure you see your updates when you go to /all\n",
    "\n"
   ]
  },
  {
   "cell_type": "markdown",
   "id": "6d5a8fe6",
   "metadata": {},
   "source": [
    "a. A /all endpoint that displays all of the nobel.json data"
   ]
  },
  {
   "cell_type": "markdown",
   "id": "5a815507",
   "metadata": {},
   "source": [
    "https://nobelservice.azurewebsites.net/all"
   ]
  },
  {
   "cell_type": "code",
   "execution_count": null,
   "id": "290e8739",
   "metadata": {},
   "outputs": [],
   "source": []
  },
  {
   "cell_type": "code",
   "execution_count": null,
   "id": "4d228f13",
   "metadata": {},
   "outputs": [],
   "source": []
  },
  {
   "cell_type": "markdown",
   "id": "2e4dea9e",
   "metadata": {},
   "source": [
    "2.\tWhat kind of API did you build? What types of APIs are there? Why are APIs important?"
   ]
  },
  {
   "cell_type": "code",
   "execution_count": null,
   "id": "5a84a3b7",
   "metadata": {},
   "outputs": [],
   "source": []
  },
  {
   "cell_type": "code",
   "execution_count": null,
   "id": "cecf5de4",
   "metadata": {},
   "outputs": [],
   "source": []
  },
  {
   "cell_type": "code",
   "execution_count": null,
   "id": "22919694",
   "metadata": {},
   "outputs": [],
   "source": []
  },
  {
   "cell_type": "code",
   "execution_count": null,
   "id": "0717e3f5",
   "metadata": {},
   "outputs": [],
   "source": []
  }
 ],
 "metadata": {
  "kernelspec": {
   "display_name": "Python 3 (ipykernel)",
   "language": "python",
   "name": "python3"
  },
  "language_info": {
   "codemirror_mode": {
    "name": "ipython",
    "version": 3
   },
   "file_extension": ".py",
   "mimetype": "text/x-python",
   "name": "python",
   "nbconvert_exporter": "python",
   "pygments_lexer": "ipython3",
   "version": "3.9.7"
  }
 },
 "nbformat": 4,
 "nbformat_minor": 5
}
