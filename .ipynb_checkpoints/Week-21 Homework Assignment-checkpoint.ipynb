{
 "cells": [
  {
   "cell_type": "markdown",
   "id": "0c8f760f",
   "metadata": {},
   "source": [
    "# Week-21 Homework Assignment"
   ]
  },
  {
   "cell_type": "markdown",
   "id": "e54eea6b",
   "metadata": {},
   "source": [
    "1.\tCreate a basic API in Azure (as we did in class) that tells you how to access the different endpoints when you go to the home page. You should have the following endpoints:\n",
    "    \n",
    "a.\tA /all endpoint that displays all of the nobel.json data\n",
    "\n",
    "b.\tA /<year> GET endpoint that allows for you to pass in any year and shows you the Nobel prizes from that year. No need to create an HTML page for this, but you can if you want.\n",
    "\n",
    "c.\tA /add POST endpoint that lets you add additional data\n",
    "\n",
    "i.\tYou should use a basic HTML form, but you can also pass the data into the API url if you’re feeling ambitious. The latter may require use of a tool called Postman. First, make sure the data from the form is getting passed to python, and then work on appending it to the json file.\n",
    "\n",
    "ii.\tMake sure you see your updates when you go to /all\n",
    "\n"
   ]
  },
  {
   "cell_type": "code",
   "execution_count": null,
   "id": "6179ef4e",
   "metadata": {},
   "outputs": [],
   "source": []
  },
  {
   "cell_type": "code",
   "execution_count": null,
   "id": "eabd5e3e",
   "metadata": {},
   "outputs": [],
   "source": []
  },
  {
   "cell_type": "code",
   "execution_count": null,
   "id": "6afa0533",
   "metadata": {},
   "outputs": [],
   "source": []
  },
  {
   "cell_type": "code",
   "execution_count": null,
   "id": "1bcefbee",
   "metadata": {},
   "outputs": [],
   "source": []
  },
  {
   "cell_type": "markdown",
   "id": "f71ede81",
   "metadata": {},
   "source": [
    "2.\tWhat kind of API did you build? What types of APIs are there? Why are APIs important?"
   ]
  },
  {
   "cell_type": "code",
   "execution_count": null,
   "id": "7755b083",
   "metadata": {},
   "outputs": [],
   "source": []
  },
  {
   "cell_type": "code",
   "execution_count": null,
   "id": "2608b7ad",
   "metadata": {},
   "outputs": [],
   "source": []
  }
 ],
 "metadata": {
  "kernelspec": {
   "display_name": "Python 3 (ipykernel)",
   "language": "python",
   "name": "python3"
  },
  "language_info": {
   "codemirror_mode": {
    "name": "ipython",
    "version": 3
   },
   "file_extension": ".py",
   "mimetype": "text/x-python",
   "name": "python",
   "nbconvert_exporter": "python",
   "pygments_lexer": "ipython3",
   "version": "3.9.7"
  }
 },
 "nbformat": 4,
 "nbformat_minor": 5
}
