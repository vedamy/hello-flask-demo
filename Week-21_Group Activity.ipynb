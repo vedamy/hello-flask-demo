{
 "cells": [
  {
   "cell_type": "markdown",
   "id": "b709541f",
   "metadata": {},
   "source": [
    "# Group Activity"
   ]
  },
  {
   "cell_type": "markdown",
   "id": "0535b3d4",
   "metadata": {},
   "source": [
    "1. Make sure you can get the API from class to work in Azure. Take a screenshot of it\n",
    "working and add the image to a jupyter notebook.\n"
   ]
  },
  {
   "cell_type": "code",
   "execution_count": null,
   "id": "e0d2f579",
   "metadata": {},
   "outputs": [],
   "source": []
  },
  {
   "cell_type": "code",
   "execution_count": null,
   "id": "d0fe6c19",
   "metadata": {},
   "outputs": [],
   "source": []
  },
  {
   "cell_type": "code",
   "execution_count": null,
   "id": "9a0be909",
   "metadata": {},
   "outputs": [],
   "source": []
  },
  {
   "cell_type": "code",
   "execution_count": null,
   "id": "39d50e8a",
   "metadata": {},
   "outputs": [],
   "source": []
  },
  {
   "cell_type": "markdown",
   "id": "a2df4ecd",
   "metadata": {},
   "source": [
    "2. Loop through the API data in python using the /gdp/<year> endpoint for your API. What\n",
    "does it look like? Is there a way to alter the html page to simplify what you see"
   ]
  },
  {
   "cell_type": "code",
   "execution_count": null,
   "id": "d3304782",
   "metadata": {},
   "outputs": [],
   "source": []
  }
 ],
 "metadata": {
  "kernelspec": {
   "display_name": "Python 3 (ipykernel)",
   "language": "python",
   "name": "python3"
  },
  "language_info": {
   "codemirror_mode": {
    "name": "ipython",
    "version": 3
   },
   "file_extension": ".py",
   "mimetype": "text/x-python",
   "name": "python",
   "nbconvert_exporter": "python",
   "pygments_lexer": "ipython3",
   "version": "3.9.7"
  }
 },
 "nbformat": 4,
 "nbformat_minor": 5
}
